{
 "cells": [
  {
   "cell_type": "code",
   "execution_count": null,
   "id": "7686b654",
   "metadata": {
    "vscode": {
     "languageId": "yaml"
    }
   },
   "outputs": [],
   "source": [
    "---\n",
    "layout: post\n",
    "title: JavaScript Variables Lesson\n",
    "description: This page will teach you the basics of variables.\n",
    "categories: ['HTML', 'JavaScript']\n",
    "permalink: /lessons/variables-lesson\n",
    "---"
   ]
  },
  {
   "cell_type": "markdown",
   "id": "3a92df88",
   "metadata": {},
   "source": [
    "# Variubles Lesson Intro\n",
    "\n",
    "In this lesson, you will be learn the basics of variables. This includes what they are, how to use them in Javascript, and where they can be applied. Let's dive in!\n",
    "\n",
    "## Examples of Variables\n",
    "\n",
    "Here are some examples of variables in our team's wordgame:"
   ]
  },
  {
   "cell_type": "code",
   "execution_count": null,
   "id": "09f27dd6",
   "metadata": {
    "vscode": {
     "languageId": "javascript"
    }
   },
   "outputs": [],
   "source": [
    "var hello = \"Hello, I am a string.\";\n",
    "let hi = 0;\n",
    "const hey = 3.4;"
   ]
  },
  {
   "cell_type": "markdown",
   "id": "af3e5d27",
   "metadata": {},
   "source": [
    "Now let's answer the following questions:\n",
    "\n",
    "+ What do the keywords `var`, `let`, and `const` do?\n",
    "  + How are they different?\n",
    "+ What are `hi`, `hello`, and `hey`?\n",
    "+ What does the `=` symbol do?\n",
    "+ What are the values after the `=`?"
   ]
  }
 ],
 "metadata": {
  "language_info": {
   "name": "python"
  }
 },
 "nbformat": 4,
 "nbformat_minor": 5
}
