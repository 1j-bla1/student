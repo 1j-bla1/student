{
 "cells": [
  {
   "cell_type": "code",
   "execution_count": null,
   "id": "c0d93d55",
   "metadata": {
    "vscode": {
     "languageId": "yaml"
    }
   },
   "outputs": [],
   "source": [
    "---\n",
    "layout: post\n",
    "title: JavaScript Functions Homework\n",
    "description: This page will teach you the basics of functions.\n",
    "categories: ['HTML', 'JavaScript']\n",
    "permalink: /lessons/functions-hw\n",
    "---"
   ]
  },
  {
   "cell_type": "code",
   "execution_count": null,
   "id": "7d74e2d8",
   "metadata": {
    "vscode": {
     "languageId": "yaml"
    }
   },
   "outputs": [],
   "source": [
    "## Coding Homework: JavaScript Functions\n",
    "### Your job is to complete the following homework tasks on JavaScript functions. By following these instruction you will become aware of how to use function in your code.\n",
    "## Homework Challenge 1:\n",
    "### Your first task is to create a function that will output your name\n",
    "### Hint: Use the code \"function\""
   ]
  }
 ],
 "metadata": {
  "language_info": {
   "name": "python"
  }
 },
 "nbformat": 4,
 "nbformat_minor": 5
}
