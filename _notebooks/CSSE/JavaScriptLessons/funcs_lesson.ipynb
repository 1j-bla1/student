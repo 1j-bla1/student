{
 "cells": [
  {
   "cell_type": "code",
   "execution_count": null,
   "id": "d7f86ea9",
   "metadata": {
    "vscode": {
     "languageId": "yaml"
    }
   },
   "outputs": [],
   "source": [
    "---\n",
    "layout: post\n",
    "title: JavaScript Functions Lesson\n",
    "description: This page will teach you the basics of functions.\n",
    "categories: ['HTML', 'JavaScript']\n",
    "permalink: /lessons/functions-lesson\n",
    "---"
   ]
  }
 ],
 "metadata": {
  "language_info": {
   "name": "python"
  }
 },
 "nbformat": 4,
 "nbformat_minor": 5
}
